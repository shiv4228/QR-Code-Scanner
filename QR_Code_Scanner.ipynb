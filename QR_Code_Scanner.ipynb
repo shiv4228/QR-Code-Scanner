{
 "cells": [
  {
   "cell_type": "code",
   "execution_count": null,
   "metadata": {},
   "outputs": [],
   "source": [
    "import cv2\n",
    "import numpy as np\n",
    "from pyzbar.pyzbar import decode\n",
    "\n",
    "#img = cv2.imread('1.png')\n",
    "cap = cv2.VideoCapture(0)\n",
    "cap.set(3,640)\n",
    "cap.set(4,480)\n",
    "\n",
    "with open('myDataFile.text') as f:\n",
    "    myDataList = f.read().splitlines()\n",
    "\n",
    "while True:\n",
    "\n",
    "    success, img = cap.read()\n",
    "    for barcode in decode(img):\n",
    "        myData = barcode.data.decode('utf-8')\n",
    "        print(myData)\n",
    "\n",
    "        if myData in myDataList:\n",
    "            myOutput = 'True'\n",
    "            myColor = (0,255,0)\n",
    "        else:\n",
    "            myOutput = 'False'\n",
    "            myColor = (0, 0, 255)\n",
    "\n",
    "        pts = np.array([barcode.polygon],np.int32)\n",
    "        pts = pts.reshape((-1,1,2))\n",
    "        cv2.polylines(img,[pts],True,myColor,5)\n",
    "        pts2 = barcode.rect\n",
    "        cv2.putText(img,myOutput,(pts2[0],pts2[1]),cv2.FONT_HERSHEY_SIMPLEX,\n",
    "                    0.9,myColor,2)\n",
    "\n",
    "    cv2.imshow('Result',img)\n",
    "    cv2.waitKey(1)"
   ]
  },
  {
   "cell_type": "code",
   "execution_count": null,
   "metadata": {},
   "outputs": [],
   "source": []
  }
 ],
 "metadata": {
  "language_info": {
   "name": "python"
  }
 },
 "nbformat": 4,
 "nbformat_minor": 2
}
